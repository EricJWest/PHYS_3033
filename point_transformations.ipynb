{
 "cells": [
  {
   "cell_type": "code",
   "execution_count": 1,
   "metadata": {},
   "outputs": [],
   "source": [
    "## import libraries\n",
    "import numpy as np\n",
    "import matplotlib.pyplot as plt"
   ]
  },
  {
   "cell_type": "code",
   "execution_count": 31,
   "metadata": {},
   "outputs": [
    {
     "name": "stdout",
     "output_type": "stream",
     "text": [
      "[[0 4 4 0 0]\n",
      " [0 0 3 3 0]]\n"
     ]
    }
   ],
   "source": [
    "## vertices\n",
    "v1 = np.array([[0],[0]])\n",
    "v2 = np.array([[4],[0]])\n",
    "v3 = np.array([[4],[3]])\n",
    "v4 = np.array([[0],[3]])"
   ]
  },
  {
   "cell_type": "code",
   "execution_count": null,
   "metadata": {},
   "outputs": [],
   "source": [
    "## point matrix\n",
    "P = np.hstack([v1, v2, v3, v4, v1]) #stacks column vectors horizontally\n",
    "print(P)"
   ]
  },
  {
   "cell_type": "code",
   "execution_count": 41,
   "metadata": {},
   "outputs": [
    {
     "name": "stdout",
     "output_type": "stream",
     "text": [
      "[0 4 4 0 0]\n",
      "[0 0 3 3 0]\n"
     ]
    }
   ],
   "source": [
    "## selecting x and y components\n",
    "def xy_comps(A):\n",
    "    x = A[0] #gets elements of row 0\n",
    "    y = A[1] #gets elements of row 1\n",
    "    return x, y\n",
    "\n",
    "    \n",
    "x, y = xy_comps(P) \n",
    "print(x)\n",
    "print(y)"
   ]
  },
  {
   "cell_type": "code",
   "execution_count": 42,
   "metadata": {},
   "outputs": [
    {
     "data": {
      "image/png": "[encoded data removed]",
      "text/plain": [
       "<Figure size 432x288 with 1 Axes>"
      ]
     },
     "metadata": {
      "needs_background": "light"
     },
     "output_type": "display_data"
    }
   ],
   "source": [
    "## plot\n",
    "plt.fill(x, y)\n",
    "plt.xlim(-20, 20)\n",
    "plt.ylim(-20,20)\n",
    "plt.axhline(y=0, color='k', lw=1)\n",
    "plt.axvline(x=0, color='k', lw=1)\n",
    "plt.show()"
   ]
  },
  {
   "cell_type": "code",
   "execution_count": 48,
   "metadata": {},
   "outputs": [
    {
     "name": "stdout",
     "output_type": "stream",
     "text": [
      "[[ 1 -1]\n",
      " [ 1  1]]\n"
     ]
    }
   ],
   "source": [
    "## transformation matrix\n",
    "T = np.array([[1,-1],\n",
    "              [1,1]])\n",
    "print(T)"
   ]
  },
  {
   "cell_type": "code",
   "execution_count": 49,
   "metadata": {},
   "outputs": [
    {
     "data": {
      "image/png": "[encoded data removed]",
      "text/plain": [
       "<Figure size 432x288 with 1 Axes>"
      ]
     },
     "metadata": {
      "needs_background": "light"
     },
     "output_type": "display_data"
    }
   ],
   "source": [
    "## transform point matrix\n",
    "P_new = T @ P\n",
    "x_new, y_new = xy_comps(P_new)\n",
    "plt.fill(x_new, y_new)\n",
    "plt.xlim(-20, 20)\n",
    "plt.ylim(-20,20)\n",
    "plt.axhline(y=0, color='k', lw=1)\n",
    "plt.axvline(x=0, color='k', lw=1)\n",
    "plt.show()"
   ]
  },
  {
   "cell_type": "code",
   "execution_count": null,
   "metadata": {},
   "outputs": [],
   "source": []
  }
 ],
 "metadata": {
  "kernelspec": {
   "display_name": "Python 3",
   "language": "python",
   "name": "python3"
  },
  "language_info": {
   "codemirror_mode": {
    "name": "ipython",
    "version": 3
   },
   "file_extension": ".py",
   "mimetype": "text/x-python",
   "name": "python",
   "nbconvert_exporter": "python",
   "pygments_lexer": "ipython3",
   "version": "3.6.9"
  }
 },
 "nbformat": 4,
 "nbformat_minor": 2
}
